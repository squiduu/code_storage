{
 "cells": [
  {
   "cell_type": "code",
   "execution_count": 1,
   "metadata": {},
   "outputs": [],
   "source": [
    "import os\n",
    "import urllib.request\n",
    "import tarfile\n",
    "import glob\n",
    "import io"
   ]
  },
  {
   "cell_type": "code",
   "execution_count": 2,
   "metadata": {},
   "outputs": [],
   "source": [
    "save_path = \"./weights/bert-base-uncased.tar.gz\"\n",
    "url = \"https://s3.amazonaws.com/models.huggingface.co/bert/bert-base-uncased.tar.gz\"\n",
    "urllib.request.urlretrieve(url, save_path)\n",
    "\n",
    "archive_file = \"./weights/bert-base-uncased.tar.gz\"\n",
    "tar = tarfile.open(archive_file, 'r:gz')\n",
    "tar.extractall('./weights/')\n",
    "tar.close()"
   ]
  },
  {
   "cell_type": "code",
   "execution_count": 3,
   "metadata": {},
   "outputs": [],
   "source": [
    "url = \"http://ai.stanford.edu/~amaas/data/sentiment/aclImdb_v1.tar.gz\"\n",
    "save_path = \"./data/aclImdb_v1.tar.gz\"\n",
    "urllib.request.urlretrieve(url, save_path)\n",
    "tar = tarfile.open('./data/aclImdb_v1.tar.gz')\n",
    "tar.extractall('./data/')\n",
    "tar.close()"
   ]
  },
  {
   "cell_type": "code",
   "execution_count": 4,
   "metadata": {},
   "outputs": [],
   "source": [
    "f = open('./data/IMDb_train.tsv','w')\n",
    "path = './data/aclImdb/train/pos/'\n",
    "for fname in glob.glob(os.path.join(path,'*.txt')):\n",
    "    with io.open(fname, 'r', encoding=\"utf-8\") as ff:\n",
    "        text = ff.readline()\n",
    "        text = text.replace('\\t', \" \")\n",
    "        text = text+'\\t'+'1'+'\\t'+'\\n'\n",
    "        f.write(text)\n",
    "path = './data/aclImdb/train/neg/'\n",
    "for fname in glob.glob(os.path.join(path,'*.txt')):\n",
    "    with io.open(fname, 'r', encoding=\"utf-8\") as ff:\n",
    "        text = ff.readline()\n",
    "        text = text.replace('\\t', \" \")\n",
    "        text = text+'\\t'+'0'+'\\t'+'\\n'\n",
    "        f.write(text)\n",
    "f.close()\n",
    "\n",
    "f = open('./data/IMDb_test.tsv','w')\n",
    "path = './data/aclImdb/test/pos/'\n",
    "for fname in glob.glob(os.path.join(path,'*.txt')):\n",
    "    with io.open(fname, 'r', encoding=\"utf-8\") as ff:\n",
    "        text = ff.readline()\n",
    "        text = text.replace('\\t', \" \")\n",
    "        text = text+'\\t'+'1'+'\\t'+'\\n'\n",
    "        f.write(text)\n",
    "path = './data/aclImdb/test/neg/'\n",
    "for fname in glob.glob(os.path.join(path,'*.txt')):\n",
    "    with io.open(fname, 'r', encoding=\"utf-8\") as ff:\n",
    "        text = ff.readline()\n",
    "        text = text.replace('\\t', \" \")\n",
    "        text = text+'\\t'+'0'+'\\t'+'\\n'\n",
    "        f.write(text)\n",
    "f.close()"
   ]
  }
 ],
 "metadata": {
  "interpreter": {
   "hash": "a954e5682a7ae046d675dd2a88d0ef74e841537b0738b894c81de574069854f3"
  },
  "kernelspec": {
   "display_name": "Python 3.7.11 64-bit ('pyProj': conda)",
   "language": "python",
   "name": "python3"
  },
  "language_info": {
   "codemirror_mode": {
    "name": "ipython",
    "version": 3
   },
   "file_extension": ".py",
   "mimetype": "text/x-python",
   "name": "python",
   "nbconvert_exporter": "python",
   "pygments_lexer": "ipython3",
   "version": "3.7.11"
  },
  "orig_nbformat": 4
 },
 "nbformat": 4,
 "nbformat_minor": 2
}
